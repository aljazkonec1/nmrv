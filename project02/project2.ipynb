{
 "cells": [
  {
   "cell_type": "code",
   "execution_count": 1,
   "metadata": {},
   "outputs": [],
   "source": [
    "import numpy as np\n",
    "import matplotlib.pyplot as plt\n"
   ]
  },
  {
   "cell_type": "code",
   "execution_count": 15,
   "metadata": {},
   "outputs": [],
   "source": [
    "k= np.arange(-int(51/2), int(51/2)+1)\n",
    "l = np.arange(-int(39/2), int(39/2)+1)"
   ]
  },
  {
   "cell_type": "code",
   "execution_count": 16,
   "metadata": {},
   "outputs": [
    {
     "data": {
      "text/plain": [
       "array([[-19, -18, -17, ...,  17,  18,  19],\n",
       "       [-19, -18, -17, ...,  17,  18,  19],\n",
       "       [-19, -18, -17, ...,  17,  18,  19],\n",
       "       ...,\n",
       "       [-19, -18, -17, ...,  17,  18,  19],\n",
       "       [-19, -18, -17, ...,  17,  18,  19],\n",
       "       [-19, -18, -17, ...,  17,  18,  19]])"
      ]
     },
     "execution_count": 16,
     "metadata": {},
     "output_type": "execute_result"
    }
   ],
   "source": [
    "a, b = np.meshgrid(l, k)\n",
    "a"
   ]
  },
  {
   "cell_type": "code",
   "execution_count": 17,
   "metadata": {},
   "outputs": [
    {
     "data": {
      "text/plain": [
       "(51, 39)"
      ]
     },
     "execution_count": 17,
     "metadata": {},
     "output_type": "execute_result"
    }
   ],
   "source": [
    "a.shape"
   ]
  },
  {
   "cell_type": "code",
   "execution_count": 25,
   "metadata": {},
   "outputs": [
    {
     "data": {
      "text/plain": [
       "array([[-25, -25, -25, ..., -25, -25, -25],\n",
       "       [-24, -24, -24, ..., -24, -24, -24],\n",
       "       [-23, -23, -23, ..., -23, -23, -23],\n",
       "       ...,\n",
       "       [ 23,  23,  23, ...,  23,  23,  23],\n",
       "       [ 24,  24,  24, ...,  24,  24,  24],\n",
       "       [ 25,  25,  25, ...,  25,  25,  25]])"
      ]
     },
     "execution_count": 25,
     "metadata": {},
     "output_type": "execute_result"
    }
   ],
   "source": [
    "a, b = np.meshgrid(k,l)\n",
    "a.T"
   ]
  }
 ],
 "metadata": {
  "kernelspec": {
   "display_name": "nmrv",
   "language": "python",
   "name": "python3"
  },
  "language_info": {
   "codemirror_mode": {
    "name": "ipython",
    "version": 3
   },
   "file_extension": ".py",
   "mimetype": "text/x-python",
   "name": "python",
   "nbconvert_exporter": "python",
   "pygments_lexer": "ipython3",
   "version": "3.12.2"
  }
 },
 "nbformat": 4,
 "nbformat_minor": 2
}
